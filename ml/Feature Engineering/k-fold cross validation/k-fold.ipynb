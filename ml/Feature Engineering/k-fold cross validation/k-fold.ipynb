{
 "cells": [
  {
   "cell_type": "markdown",
   "id": "42bfaf60",
   "metadata": {},
   "source": [
    "# importing libraries"
   ]
  },
  {
   "cell_type": "code",
   "execution_count": 1,
   "id": "dc3e5e6a",
   "metadata": {},
   "outputs": [],
   "source": [
    "import pandas as pd\n",
    "import numpy as np\n",
    "import matplotlib.pyplot as plt\n",
    "import matplotlib.axes as ax\n",
    "\n",
    "from sklearn import datasets\n",
    "import warnings\n",
    "warnings.filterwarnings(\"ignore\")"
   ]
  },
  {
   "cell_type": "markdown",
   "id": "ce6d6a19",
   "metadata": {},
   "source": [
    "# loading data"
   ]
  },
  {
   "cell_type": "code",
   "execution_count": 4,
   "id": "9d14bd50",
   "metadata": {},
   "outputs": [],
   "source": [
    "data = datasets.fetch_california_housing()"
   ]
  },
  {
   "cell_type": "code",
   "execution_count": 5,
   "id": "1a7a83eb",
   "metadata": {},
   "outputs": [
    {
     "data": {
      "text/plain": [
       "{'data': array([[   8.3252    ,   41.        ,    6.98412698, ...,    2.55555556,\n",
       "           37.88      , -122.23      ],\n",
       "        [   8.3014    ,   21.        ,    6.23813708, ...,    2.10984183,\n",
       "           37.86      , -122.22      ],\n",
       "        [   7.2574    ,   52.        ,    8.28813559, ...,    2.80225989,\n",
       "           37.85      , -122.24      ],\n",
       "        ...,\n",
       "        [   1.7       ,   17.        ,    5.20554273, ...,    2.3256351 ,\n",
       "           39.43      , -121.22      ],\n",
       "        [   1.8672    ,   18.        ,    5.32951289, ...,    2.12320917,\n",
       "           39.43      , -121.32      ],\n",
       "        [   2.3886    ,   16.        ,    5.25471698, ...,    2.61698113,\n",
       "           39.37      , -121.24      ]]),\n",
       " 'target': array([4.526, 3.585, 3.521, ..., 0.923, 0.847, 0.894]),\n",
       " 'frame': None,\n",
       " 'target_names': ['MedHouseVal'],\n",
       " 'feature_names': ['MedInc',\n",
       "  'HouseAge',\n",
       "  'AveRooms',\n",
       "  'AveBedrms',\n",
       "  'Population',\n",
       "  'AveOccup',\n",
       "  'Latitude',\n",
       "  'Longitude'],\n",
       " 'DESCR': '.. _california_housing_dataset:\\n\\nCalifornia Housing dataset\\n--------------------------\\n\\n**Data Set Characteristics:**\\n\\n    :Number of Instances: 20640\\n\\n    :Number of Attributes: 8 numeric, predictive attributes and the target\\n\\n    :Attribute Information:\\n        - MedInc        median income in block group\\n        - HouseAge      median house age in block group\\n        - AveRooms      average number of rooms per household\\n        - AveBedrms     average number of bedrooms per household\\n        - Population    block group population\\n        - AveOccup      average number of household members\\n        - Latitude      block group latitude\\n        - Longitude     block group longitude\\n\\n    :Missing Attribute Values: None\\n\\nThis dataset was obtained from the StatLib repository.\\nhttps://www.dcc.fc.up.pt/~ltorgo/Regression/cal_housing.html\\n\\nThe target variable is the median house value for California districts,\\nexpressed in hundreds of thousands of dollars ($100,000).\\n\\nThis dataset was derived from the 1990 U.S. census, using one row per census\\nblock group. A block group is the smallest geographical unit for which the U.S.\\nCensus Bureau publishes sample data (a block group typically has a population\\nof 600 to 3,000 people).\\n\\nA household is a group of people residing within a home. Since the average\\nnumber of rooms and bedrooms in this dataset are provided per household, these\\ncolumns may take surprisingly large values for block groups with few households\\nand many empty houses, such as vacation resorts.\\n\\nIt can be downloaded/loaded using the\\n:func:`sklearn.datasets.fetch_california_housing` function.\\n\\n.. topic:: References\\n\\n    - Pace, R. Kelley and Ronald Barry, Sparse Spatial Autoregressions,\\n      Statistics and Probability Letters, 33 (1997) 291-297\\n'}"
      ]
     },
     "execution_count": 5,
     "metadata": {},
     "output_type": "execute_result"
    }
   ],
   "source": [
    "data"
   ]
  },
  {
   "cell_type": "code",
   "execution_count": 6,
   "id": "31c9e82d",
   "metadata": {},
   "outputs": [],
   "source": [
    "x=data.data"
   ]
  },
  {
   "cell_type": "code",
   "execution_count": 7,
   "id": "4954d14f",
   "metadata": {},
   "outputs": [
    {
     "data": {
      "text/plain": [
       "array([[   8.3252    ,   41.        ,    6.98412698, ...,    2.55555556,\n",
       "          37.88      , -122.23      ],\n",
       "       [   8.3014    ,   21.        ,    6.23813708, ...,    2.10984183,\n",
       "          37.86      , -122.22      ],\n",
       "       [   7.2574    ,   52.        ,    8.28813559, ...,    2.80225989,\n",
       "          37.85      , -122.24      ],\n",
       "       ...,\n",
       "       [   1.7       ,   17.        ,    5.20554273, ...,    2.3256351 ,\n",
       "          39.43      , -121.22      ],\n",
       "       [   1.8672    ,   18.        ,    5.32951289, ...,    2.12320917,\n",
       "          39.43      , -121.32      ],\n",
       "       [   2.3886    ,   16.        ,    5.25471698, ...,    2.61698113,\n",
       "          39.37      , -121.24      ]])"
      ]
     },
     "execution_count": 7,
     "metadata": {},
     "output_type": "execute_result"
    }
   ],
   "source": [
    "x"
   ]
  },
  {
   "cell_type": "code",
   "execution_count": 8,
   "id": "0ee0b8cb",
   "metadata": {},
   "outputs": [],
   "source": [
    "y=data.target"
   ]
  },
  {
   "cell_type": "code",
   "execution_count": 9,
   "id": "7d515254",
   "metadata": {},
   "outputs": [
    {
     "data": {
      "text/plain": [
       "['MedInc',\n",
       " 'HouseAge',\n",
       " 'AveRooms',\n",
       " 'AveBedrms',\n",
       " 'Population',\n",
       " 'AveOccup',\n",
       " 'Latitude',\n",
       " 'Longitude']"
      ]
     },
     "execution_count": 9,
     "metadata": {},
     "output_type": "execute_result"
    }
   ],
   "source": [
    "features = data.feature_names\n",
    "features"
   ]
  },
  {
   "cell_type": "code",
   "execution_count": 10,
   "id": "2fe19b84",
   "metadata": {},
   "outputs": [],
   "source": [
    "from sklearn.model_selection import train_test_split\n",
    "x_train, x_test, y_train, y_test = train_test_split(x, y, test_size = 0.2)"
   ]
  },
  {
   "cell_type": "code",
   "execution_count": 11,
   "id": "19f6e22f",
   "metadata": {},
   "outputs": [
    {
     "name": "stdout",
     "output_type": "stream",
     "text": [
      "(16512, 8) (16512,)\n",
      "(4128, 8) (4128,)\n"
     ]
    }
   ],
   "source": [
    "print (x_train.shape, y_train.shape)\n",
    "print (x_test.shape, y_test.shape)"
   ]
  },
  {
   "cell_type": "markdown",
   "id": "82547887",
   "metadata": {},
   "source": [
    "# RAndom Forest"
   ]
  },
  {
   "cell_type": "code",
   "execution_count": 12,
   "id": "f77972e8",
   "metadata": {},
   "outputs": [],
   "source": [
    "from sklearn.ensemble import RandomForestRegressor\n",
    "rf= RandomForestRegressor(100)\n",
    "rf= rf.fit(x_train, y_train)\n",
    "\n",
    "predictions = rf.predict(x_test)"
   ]
  },
  {
   "cell_type": "code",
   "execution_count": 13,
   "id": "2c616bc9",
   "metadata": {},
   "outputs": [
    {
     "data": {
      "text/plain": [
       "(4128,)"
      ]
     },
     "execution_count": 13,
     "metadata": {},
     "output_type": "execute_result"
    }
   ],
   "source": [
    "predictions.shape"
   ]
  },
  {
   "cell_type": "code",
   "execution_count": 14,
   "id": "50c6f5dc",
   "metadata": {},
   "outputs": [
    {
     "data": {
      "text/plain": [
       "0.2570314982238025"
      ]
     },
     "execution_count": 14,
     "metadata": {},
     "output_type": "execute_result"
    }
   ],
   "source": [
    "from sklearn.metrics import mean_squared_error\n",
    "\n",
    "mean_squared_error(y_test, predictions)"
   ]
  },
  {
   "cell_type": "markdown",
   "id": "60a30309",
   "metadata": {},
   "source": [
    "# k-Fold Cross Validation"
   ]
  },
  {
   "cell_type": "code",
   "execution_count": 15,
   "id": "80da6062",
   "metadata": {},
   "outputs": [
    {
     "name": "stdout",
     "output_type": "stream",
     "text": [
      "Train - \n",
      " [ 4128  4129  4130 ... 20637 20638 20639] \n",
      "Test - \n",
      " [   0    1    2 ... 4125 4126 4127]\n",
      "=======\n",
      "\n",
      "Train - \n",
      " [    0     1     2 ... 20637 20638 20639] \n",
      "Test - \n",
      " [4128 4129 4130 ... 8253 8254 8255]\n",
      "=======\n",
      "\n",
      "Train - \n",
      " [    0     1     2 ... 20637 20638 20639] \n",
      "Test - \n",
      " [ 8256  8257  8258 ... 12381 12382 12383]\n",
      "=======\n",
      "\n",
      "Train - \n",
      " [    0     1     2 ... 20637 20638 20639] \n",
      "Test - \n",
      " [12384 12385 12386 ... 16509 16510 16511]\n",
      "=======\n",
      "\n",
      "Train - \n",
      " [    0     1     2 ... 16509 16510 16511] \n",
      "Test - \n",
      " [16512 16513 16514 ... 20637 20638 20639]\n",
      "=======\n",
      "\n"
     ]
    }
   ],
   "source": [
    "from sklearn.model_selection import KFold\n",
    "\n",
    "kfold = KFold(n_splits=5, shuffle=False)\n",
    "\n",
    "for train_index, test_index in kfold.split(x):\n",
    "    print(\"Train - \\n\", train_index, \"\\nTest - \\n\", test_index)\n",
    "    print(\"=======\\n\")\n",
    "# kfold.split(x)"
   ]
  },
  {
   "cell_type": "code",
   "execution_count": 16,
   "id": "6f8e8de2",
   "metadata": {},
   "outputs": [
    {
     "name": "stdout",
     "output_type": "stream",
     "text": [
      "Results for n_estimator:  100\n",
      "[0.5187638256429327, 0.34392933957753014, 0.3729968619364553, 0.4405075298760146, 0.4713212124733614]\n",
      "Average Error =  0.42950375390125883\n",
      "Results for n_estimator:  200\n",
      "[0.5174177841769834, 0.34455522598063837, 0.37084039669393176, 0.4440363264176282, 0.4624996201037335]\n",
      "Average Error =  0.42786987067458304\n",
      "Results for n_estimator:  500\n",
      "[0.5230069128783007, 0.34376008404413294, 0.37015962170364336, 0.4421788168408132, 0.4645686557484495]\n",
      "Average Error =  0.4287348182430679\n"
     ]
    }
   ],
   "source": [
    "rf1= RandomForestRegressor()\n",
    "\n",
    "n_est = [100, 200, 500]\n",
    "\n",
    "for n_estimator in n_est:       \n",
    "    error = []\n",
    "    for train_index, test_index in kfold.split(x):\n",
    "        \n",
    "        x_train, x_test = x[train_index], x[test_index]\n",
    "        y_train, y_test = y[train_index], y[test_index]\n",
    "    \n",
    "        rf1 = RandomForestRegressor(n_estimator)\n",
    "\n",
    "        rf1 = rf1.fit(x_train, y_train)\n",
    "\n",
    "        prediction = rf1.predict(x_test)\n",
    "        \n",
    "        error.append(mean_squared_error(y_test, prediction))\n",
    "    print(\"Results for n_estimator: \", n_estimator)\n",
    "    print(error)\n",
    "    print(\"Average Error = \", sum(error)/len(error))"
   ]
  },
  {
   "cell_type": "code",
   "execution_count": null,
   "id": "e6134a57",
   "metadata": {},
   "outputs": [],
   "source": []
  }
 ],
 "metadata": {
  "kernelspec": {
   "display_name": "Python 3 (ipykernel)",
   "language": "python",
   "name": "python3"
  },
  "language_info": {
   "codemirror_mode": {
    "name": "ipython",
    "version": 3
   },
   "file_extension": ".py",
   "mimetype": "text/x-python",
   "name": "python",
   "nbconvert_exporter": "python",
   "pygments_lexer": "ipython3",
   "version": "3.11.7"
  }
 },
 "nbformat": 4,
 "nbformat_minor": 5
}
