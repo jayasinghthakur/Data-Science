{
 "cells": [
  {
   "cell_type": "markdown",
   "id": "02e6a451",
   "metadata": {},
   "source": [
    "##  Importing libraries"
   ]
  },
  {
   "cell_type": "code",
   "execution_count": 1,
   "id": "3e3cf2d9",
   "metadata": {},
   "outputs": [],
   "source": [
    "import pandas as pd\n",
    "import numpy as np\n",
    "import seaborn as sns\n",
    "import matplotlib.pyplot as plt\n",
    "%matplotlib inline\n",
    "\n",
    "sns.set(rc={'figure.figsize':(12,10)})\n",
    "\n",
    "import warnings\n",
    "warnings.filterwarnings('ignore')\n",
    "\n",
    "import random\n",
    "random.seed(101)"
   ]
  },
  {
   "cell_type": "markdown",
   "id": "ef66f6a6",
   "metadata": {},
   "source": [
    "## loading dataset"
   ]
  },
  {
   "cell_type": "code",
   "execution_count": 2,
   "id": "380d471f",
   "metadata": {},
   "outputs": [
    {
     "data": {
      "text/html": [
       "<div>\n",
       "<style scoped>\n",
       "    .dataframe tbody tr th:only-of-type {\n",
       "        vertical-align: middle;\n",
       "    }\n",
       "\n",
       "    .dataframe tbody tr th {\n",
       "        vertical-align: top;\n",
       "    }\n",
       "\n",
       "    .dataframe thead th {\n",
       "        text-align: right;\n",
       "    }\n",
       "</style>\n",
       "<table border=\"1\" class=\"dataframe\">\n",
       "  <thead>\n",
       "    <tr style=\"text-align: right;\">\n",
       "      <th></th>\n",
       "      <th>PassengerId</th>\n",
       "      <th>Survived</th>\n",
       "      <th>Pclass</th>\n",
       "      <th>Name</th>\n",
       "      <th>Sex</th>\n",
       "      <th>Age</th>\n",
       "      <th>SibSp</th>\n",
       "      <th>Parch</th>\n",
       "      <th>Ticket</th>\n",
       "      <th>Fare</th>\n",
       "      <th>Cabin</th>\n",
       "      <th>Embarked</th>\n",
       "    </tr>\n",
       "  </thead>\n",
       "  <tbody>\n",
       "    <tr>\n",
       "      <th>0</th>\n",
       "      <td>1</td>\n",
       "      <td>0</td>\n",
       "      <td>3</td>\n",
       "      <td>Braund, Mr. Owen Harris</td>\n",
       "      <td>male</td>\n",
       "      <td>22.0</td>\n",
       "      <td>1</td>\n",
       "      <td>0</td>\n",
       "      <td>A/5 21171</td>\n",
       "      <td>7.2500</td>\n",
       "      <td>NaN</td>\n",
       "      <td>S</td>\n",
       "    </tr>\n",
       "    <tr>\n",
       "      <th>1</th>\n",
       "      <td>2</td>\n",
       "      <td>1</td>\n",
       "      <td>1</td>\n",
       "      <td>Cumings, Mrs. John Bradley (Florence Briggs Th...</td>\n",
       "      <td>female</td>\n",
       "      <td>38.0</td>\n",
       "      <td>1</td>\n",
       "      <td>0</td>\n",
       "      <td>PC 17599</td>\n",
       "      <td>71.2833</td>\n",
       "      <td>C85</td>\n",
       "      <td>C</td>\n",
       "    </tr>\n",
       "    <tr>\n",
       "      <th>2</th>\n",
       "      <td>3</td>\n",
       "      <td>1</td>\n",
       "      <td>3</td>\n",
       "      <td>Heikkinen, Miss. Laina</td>\n",
       "      <td>female</td>\n",
       "      <td>26.0</td>\n",
       "      <td>0</td>\n",
       "      <td>0</td>\n",
       "      <td>STON/O2. 3101282</td>\n",
       "      <td>7.9250</td>\n",
       "      <td>NaN</td>\n",
       "      <td>S</td>\n",
       "    </tr>\n",
       "    <tr>\n",
       "      <th>3</th>\n",
       "      <td>4</td>\n",
       "      <td>1</td>\n",
       "      <td>1</td>\n",
       "      <td>Futrelle, Mrs. Jacques Heath (Lily May Peel)</td>\n",
       "      <td>female</td>\n",
       "      <td>35.0</td>\n",
       "      <td>1</td>\n",
       "      <td>0</td>\n",
       "      <td>113803</td>\n",
       "      <td>53.1000</td>\n",
       "      <td>C123</td>\n",
       "      <td>S</td>\n",
       "    </tr>\n",
       "    <tr>\n",
       "      <th>4</th>\n",
       "      <td>5</td>\n",
       "      <td>0</td>\n",
       "      <td>3</td>\n",
       "      <td>Allen, Mr. William Henry</td>\n",
       "      <td>male</td>\n",
       "      <td>35.0</td>\n",
       "      <td>0</td>\n",
       "      <td>0</td>\n",
       "      <td>373450</td>\n",
       "      <td>8.0500</td>\n",
       "      <td>NaN</td>\n",
       "      <td>S</td>\n",
       "    </tr>\n",
       "  </tbody>\n",
       "</table>\n",
       "</div>"
      ],
      "text/plain": [
       "   PassengerId  Survived  Pclass  \\\n",
       "0            1         0       3   \n",
       "1            2         1       1   \n",
       "2            3         1       3   \n",
       "3            4         1       1   \n",
       "4            5         0       3   \n",
       "\n",
       "                                                Name     Sex   Age  SibSp  \\\n",
       "0                            Braund, Mr. Owen Harris    male  22.0      1   \n",
       "1  Cumings, Mrs. John Bradley (Florence Briggs Th...  female  38.0      1   \n",
       "2                             Heikkinen, Miss. Laina  female  26.0      0   \n",
       "3       Futrelle, Mrs. Jacques Heath (Lily May Peel)  female  35.0      1   \n",
       "4                           Allen, Mr. William Henry    male  35.0      0   \n",
       "\n",
       "   Parch            Ticket     Fare Cabin Embarked  \n",
       "0      0         A/5 21171   7.2500   NaN        S  \n",
       "1      0          PC 17599  71.2833   C85        C  \n",
       "2      0  STON/O2. 3101282   7.9250   NaN        S  \n",
       "3      0            113803  53.1000  C123        S  \n",
       "4      0            373450   8.0500   NaN        S  "
      ]
     },
     "execution_count": 2,
     "metadata": {},
     "output_type": "execute_result"
    }
   ],
   "source": [
    "data = pd.read_csv('titanic_data.csv')\n",
    "data.head()"
   ]
  },
  {
   "cell_type": "code",
   "execution_count": 3,
   "id": "e93d8bde",
   "metadata": {},
   "outputs": [
    {
     "name": "stdout",
     "output_type": "stream",
     "text": [
      "<class 'pandas.core.frame.DataFrame'>\n",
      "RangeIndex: 891 entries, 0 to 890\n",
      "Data columns (total 12 columns):\n",
      " #   Column       Non-Null Count  Dtype  \n",
      "---  ------       --------------  -----  \n",
      " 0   PassengerId  891 non-null    int64  \n",
      " 1   Survived     891 non-null    int64  \n",
      " 2   Pclass       891 non-null    int64  \n",
      " 3   Name         891 non-null    object \n",
      " 4   Sex          891 non-null    object \n",
      " 5   Age          714 non-null    float64\n",
      " 6   SibSp        891 non-null    int64  \n",
      " 7   Parch        891 non-null    int64  \n",
      " 8   Ticket       891 non-null    object \n",
      " 9   Fare         891 non-null    float64\n",
      " 10  Cabin        204 non-null    object \n",
      " 11  Embarked     889 non-null    object \n",
      "dtypes: float64(2), int64(5), object(5)\n",
      "memory usage: 83.7+ KB\n"
     ]
    }
   ],
   "source": [
    "data.info()"
   ]
  },
  {
   "cell_type": "code",
   "execution_count": 4,
   "id": "610046d2",
   "metadata": {},
   "outputs": [],
   "source": [
    "dict_live = {\n",
    "    0:'died',\n",
    "    1:'survived'\n",
    "}\n",
    "dict_sex = {\n",
    "    'male':0,\n",
    "    'female':1\n",
    "}\n",
    "\n",
    "data['Bsex']=data['Sex'].apply(lambda x : dict_sex[x])\n",
    "\n",
    "#features\n",
    "features = data[['Pclass','Bsex']].to_numpy()\n",
    "labels = data[['Survived']].to_numpy()\n"
   ]
  },
  {
   "cell_type": "markdown",
   "id": "2b623f36",
   "metadata": {},
   "source": [
    "## Splliting the data"
   ]
  },
  {
   "cell_type": "code",
   "execution_count": 5,
   "id": "33ee5751",
   "metadata": {},
   "outputs": [],
   "source": [
    "from sklearn.model_selection import train_test_split\n",
    "xtrain , xtest , ytrain , ytest = train_test_split(features , labels , test_size = 0.30, random_state = 0)"
   ]
  },
  {
   "cell_type": "markdown",
   "id": "e0394988",
   "metadata": {},
   "source": [
    "## Multi - layer perceptron"
   ]
  },
  {
   "cell_type": "markdown",
   "id": "0afcb2a2",
   "metadata": {},
   "source": [
    "#### Activation function and Derivative"
   ]
  },
  {
   "cell_type": "code",
   "execution_count": 6,
   "id": "22126f2c",
   "metadata": {},
   "outputs": [],
   "source": [
    "# sigmoid \n",
    "\n",
    "def Sigmoid(x , derivative = False):\n",
    "    \n",
    "    if derivative == True:\n",
    "        f = 1/(1+np.exp(-x)) * (1-1/(1+np.exp(-x)))\n",
    "    else:\n",
    "        f = 1/(1 + np.exp(-x))\n",
    "    \n",
    "    return f\n",
    "\n",
    "def ReLu(x , derivative = False):\n",
    "    if derivative == True:\n",
    "        f = np.heaviside(x , 1)\n",
    "    else:\n",
    "        f = np.maximum(x,0)\n",
    "    \n",
    "    return f"
   ]
  },
  {
   "cell_type": "code",
   "execution_count": 7,
   "id": "0f7ef5ab",
   "metadata": {},
   "outputs": [
    {
     "data": {
      "text/plain": [
       "(623, 2)"
      ]
     },
     "execution_count": 7,
     "metadata": {},
     "output_type": "execute_result"
    }
   ],
   "source": [
    "xtrain.shape"
   ]
  },
  {
   "cell_type": "markdown",
   "id": "f941040d",
   "metadata": {},
   "source": [
    "## Training model"
   ]
  },
  {
   "cell_type": "code",
   "execution_count": 8,
   "id": "093458e5",
   "metadata": {},
   "outputs": [],
   "source": [
    "def train_ann(xtrain , ytrain , h1_units = 4 , h2_units = 4 ,learning_rate = 0.0015):\n",
    "    \n",
    "    random.seed(101)\n",
    "    \n",
    "    #hidden layer 1\n",
    "    w1 = 2*np.random.rand(h1_units , xtrain.shape[1])\n",
    "    b1 = np.random.rand(h1_units)\n",
    "    \n",
    "    #hidden layer 2\n",
    "    w2 = 2*np.random.rand(h2_units , h1_units)\n",
    "    b2 = np.random.rand(h2_units)\n",
    "    \n",
    "    # output layer \n",
    "    w_out = 2*np.random.rand(h2_units)\n",
    "    b_out = np.random.rand(1)\n",
    "    \n",
    "    loss =[]\n",
    "    ver_y =[]\n",
    "    \n",
    "    for i in range(0 , xtrain.shape[0]):\n",
    "        x_data = xtrain[i]\n",
    "        \n",
    "        #2. feed forward\n",
    "        \n",
    "        h1 = ReLu(np.dot(w1 , x_data) + b1) #hidden layer 1 output\n",
    "        h2 = ReLu(np.dot(w2 , h1) + b2)#hidden layer 2 output\n",
    "        y = Sigmoid(np.dot(w_out , h2) + b_out)#output of output layer\n",
    "        \n",
    "        #3. Backpropagation - calculation the layer derivatives\n",
    "        delta_out = (y - ytrain[i]) * Sigmoid(y , derivative = True)\n",
    "        delta_2 = delta_out * w_out *ReLu(h2 , derivative = True)\n",
    "        delta_1 = np.dot(delta_2 , w2) *ReLu(h1 , derivative = True)\n",
    "        \n",
    "        #4. Gradient Descent\n",
    "        w_out = w_out - learning_rate * delta_out * h2 #output layer\n",
    "        b_out = b_out - learning_rate *delta_out\n",
    "        \n",
    "        #hidden layer 2 \n",
    "        w2 = w2 - learning_rate * np.kron(delta_2 , h1).reshape(h2_units , h1_units)\n",
    "        b2 = b2 - learning_rate * delta_2\n",
    "        \n",
    "        #hidden layer 1 \n",
    "        w1 = w1 - learning_rate * np.kron(delta_1 , x_data).reshape(h1_units , x_data.shape[0])\n",
    "        b1 = b1 - learning_rate * delta_1\n",
    "        \n",
    "        #cost\n",
    "        loss.append((1/2) * (y - ytrain[i]**2))\n",
    "        ver_y.append(y[0])\n",
    "        \n",
    "    batch_loss = []\n",
    "    for i in range(0 , 10):\n",
    "        loss_avg = 0\n",
    "        for m in range(0 , 60):\n",
    "            loss_avg +=ver_y[60*i +m]/60\n",
    "        batch_loss.append(loss_avg)\n",
    "    plt.figure(figsize =(10,6))\n",
    "    plt.plot(np.arange(1 ,len(batch_loss)+1) , batch_loss)\n",
    "    plt.title('avg loss by epoch' , fontsize = 20)\n",
    "    plt.xlabel('Epoch',fontsize = 16) \n",
    "    plt.ylabel('Loss',fontsize=16)\n",
    "    plt.show()\n",
    "    \n",
    "    return w1 , b1 , w2 , b2 , w_out , b_out , loss\n",
    "        \n",
    "        \n",
    "        "
   ]
  },
  {
   "cell_type": "code",
   "execution_count": 9,
   "id": "597f05f4",
   "metadata": {},
   "outputs": [
    {
     "data": {
      "image/png": "[encoded data removed]",
      "text/plain": [
       "<Figure size 1000x600 with 1 Axes>"
      ]
     },
     "metadata": {},
     "output_type": "display_data"
    }
   ],
   "source": [
    "w1 , b1 , w2 , b2 , w_out , b_out , loss=train_ann(xtrain,ytrain)"
   ]
  },
  {
   "cell_type": "markdown",
   "id": "bde6b44d",
   "metadata": {},
   "source": [
    "## Testing models"
   ]
  },
  {
   "cell_type": "code",
   "execution_count": 59,
   "id": "40e3e570",
   "metadata": {},
   "outputs": [],
   "source": [
    "def ann_pred(xtest , w1 , b1 , w2 , b2 , w_out , b_out):\n",
    "    pred =[]\n",
    "    for i in range(0 , xtest.shape[0]):\n",
    "        x = xtest[i]\n",
    "        \n",
    "        #2. feed forward\n",
    "        \n",
    "        z1 = ReLu(np.dot(w1 , x) + b1) #hidden layer 1 output\n",
    "        z2 = ReLu(np.dot(w2 , z1) + b2)#hidden layer 2 output\n",
    "        y = Sigmoid(np.dot(w_out , z2) + b_out)#output of output layer\n",
    "        \n",
    "        pred.append(np.heaviside(y - 0.5,1)[0])\n",
    "    return np.array(pred)  "
   ]
  },
  {
   "cell_type": "code",
   "execution_count": 60,
   "id": "af9399c0",
   "metadata": {},
   "outputs": [],
   "source": [
    "predictions =ann_pred(xtest, w1 , b1 , w2 , b2 , w_out , b_out)"
   ]
  },
  {
   "cell_type": "code",
   "execution_count": 61,
   "id": "94e012f3",
   "metadata": {},
   "outputs": [
    {
     "data": {
      "text/plain": [
       "(268,)"
      ]
     },
     "execution_count": 61,
     "metadata": {},
     "output_type": "execute_result"
    }
   ],
   "source": [
    "predictions.shape"
   ]
  },
  {
   "cell_type": "code",
   "execution_count": 62,
   "id": "37b8d613",
   "metadata": {},
   "outputs": [],
   "source": [
    "ytest = ytest.reshape(-1).astype(float)"
   ]
  },
  {
   "cell_type": "code",
   "execution_count": 63,
   "id": "af8f7310",
   "metadata": {},
   "outputs": [
    {
     "data": {
      "text/plain": [
       "(268,)"
      ]
     },
     "execution_count": 63,
     "metadata": {},
     "output_type": "execute_result"
    }
   ],
   "source": [
    "ytest.shape"
   ]
  },
  {
   "cell_type": "markdown",
   "id": "0f863a2d",
   "metadata": {},
   "source": [
    "## model evaluation"
   ]
  },
  {
   "cell_type": "code",
   "execution_count": 64,
   "id": "fcdbc202",
   "metadata": {},
   "outputs": [],
   "source": [
    "from sklearn.metrics import accuracy_score , confusion_matrix\n",
    "cm = confusion_matrix(ytest , predictions)\n",
    "df_cm = pd.DataFrame(cm , index = [dict_live[i] for i in range(0,2)],\n",
    "                    columns = [dict_live[i] for i in range(0,2)])"
   ]
  },
  {
   "cell_type": "code",
   "execution_count": 65,
   "id": "e27695d3",
   "metadata": {},
   "outputs": [
    {
     "data": {
      "text/plain": [
       "array([[119,  49],\n",
       "       [ 16,  84]], dtype=int64)"
      ]
     },
     "execution_count": 65,
     "metadata": {},
     "output_type": "execute_result"
    }
   ],
   "source": [
    "cm"
   ]
  },
  {
   "cell_type": "code",
   "execution_count": 66,
   "id": "892d7565",
   "metadata": {},
   "outputs": [
    {
     "data": {
      "text/html": [
       "<div>\n",
       "<style scoped>\n",
       "    .dataframe tbody tr th:only-of-type {\n",
       "        vertical-align: middle;\n",
       "    }\n",
       "\n",
       "    .dataframe tbody tr th {\n",
       "        vertical-align: top;\n",
       "    }\n",
       "\n",
       "    .dataframe thead th {\n",
       "        text-align: right;\n",
       "    }\n",
       "</style>\n",
       "<table border=\"1\" class=\"dataframe\">\n",
       "  <thead>\n",
       "    <tr style=\"text-align: right;\">\n",
       "      <th></th>\n",
       "      <th>died</th>\n",
       "      <th>survived</th>\n",
       "    </tr>\n",
       "  </thead>\n",
       "  <tbody>\n",
       "    <tr>\n",
       "      <th>died</th>\n",
       "      <td>119</td>\n",
       "      <td>49</td>\n",
       "    </tr>\n",
       "    <tr>\n",
       "      <th>survived</th>\n",
       "      <td>16</td>\n",
       "      <td>84</td>\n",
       "    </tr>\n",
       "  </tbody>\n",
       "</table>\n",
       "</div>"
      ],
      "text/plain": [
       "          died  survived\n",
       "died       119        49\n",
       "survived    16        84"
      ]
     },
     "execution_count": 66,
     "metadata": {},
     "output_type": "execute_result"
    }
   ],
   "source": [
    "df_cm"
   ]
  },
  {
   "cell_type": "code",
   "execution_count": 67,
   "id": "59dda4cc",
   "metadata": {},
   "outputs": [
    {
     "data": {
      "image/png": "[encoded data removed]",
      "text/plain": [
       "<Figure size 700x700 with 2 Axes>"
      ]
     },
     "metadata": {},
     "output_type": "display_data"
    }
   ],
   "source": [
    "plt.figure(figsize = (7,7))\n",
    "sns.heatmap(df_cm , annot = True , cmap = plt.cm.Blues , fmt = 'g')\n",
    "plt.xlabel('predicted class' , fontsize = 18)\n",
    "plt.ylabel('true class', fontsize = 18)\n",
    "plt.show()"
   ]
  },
  {
   "cell_type": "code",
   "execution_count": null,
   "id": "bf71677e",
   "metadata": {},
   "outputs": [],
   "source": []
  }
 ],
 "metadata": {
  "kernelspec": {
   "display_name": "Python 3 (ipykernel)",
   "language": "python",
   "name": "python3"
  },
  "language_info": {
   "codemirror_mode": {
    "name": "ipython",
    "version": 3
   },
   "file_extension": ".py",
   "mimetype": "text/x-python",
   "name": "python",
   "nbconvert_exporter": "python",
   "pygments_lexer": "ipython3",
   "version": "3.11.7"
  }
 },
 "nbformat": 4,
 "nbformat_minor": 5
}
